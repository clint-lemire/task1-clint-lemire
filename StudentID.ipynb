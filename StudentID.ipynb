{
 "cells": [
  {
   "cell_type": "markdown",
   "metadata": {},
   "source": [
    "# Student Identity\n",
    "\n",
    "This [Jupyter Notebook](https://jupyter.org/) can be use to commit your personal information in the required [JSON](https://www.json.org/) format.\n",
    "Below, you should replace `Full Name` by the name you want the instructor to use in class.\n",
    "You shoud also replace the fields `GitHub ID` and `TAMU NetID` with your personal information."
   ]
  },
  {
   "cell_type": "code",
   "execution_count": null,
   "metadata": {
    "collapsed": true
   },
   "outputs": [],
   "source": [
    "import json\n",
    "\n",
    "data = {}\n",
    "data['students'] = []\n",
    "data['students'].append({\n",
    "    'name': 'Full Name',\n",
    "    'GitHubID': 'GitHub ID',\n",
    "    'NetID': 'TAMU NetID'\n",
    "})\n",
    "\n",
    "with open('identity.txt', 'w') as outfile:\n",
    "    json.dump(data, outfile)"
   ]
  },
  {
   "cell_type": "markdown",
   "metadata": {},
   "source": [
    "Once you have modified and executed the [Python](https://www.python.org/) code above, you should check that the file `identity.txt` appears in your working directory.\n",
    "Furthermore, you can make sure that the information contained therein is accurate by running the following code."
   ]
  },
  {
   "cell_type": "code",
   "execution_count": null,
   "metadata": {},
   "outputs": [],
   "source": [
    "import json\n",
    "\n",
    "with open('identity.txt') as json_file:\n",
    "    data = json.load(json_file)\n",
    "    for student in data['students']:\n",
    "        print('Name: ' + student['name'])\n",
    "        print('GitHubID: ' + student['GitHubID'])\n",
    "        print('NetID: ' + student['NetID'])\n",
    "        print('')"
   ]
  },
  {
   "cell_type": "markdown",
   "metadata": {},
   "source": [
    "Upon successful completion of this task, you should  `add` and `commit` your modifications to your local repository, then `pull` the latest revisions from the master repository, and `push` your contribution to the remote repositiory."
   ]
  }
 ],
 "metadata": {
  "kernelspec": {
   "display_name": "Python 3",
   "language": "python",
   "name": "python3"
  },
  "language_info": {
   "codemirror_mode": {
    "name": "ipython",
    "version": 3
   },
   "file_extension": ".py",
   "mimetype": "text/x-python",
   "name": "python",
   "nbconvert_exporter": "python",
   "pygments_lexer": "ipython3",
   "version": "3.6.8"
  }
 },
 "nbformat": 4,
 "nbformat_minor": 2
}
